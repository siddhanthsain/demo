{
 "cells": [
  {
   "cell_type": "code",
   "execution_count": 19,
   "metadata": {},
   "outputs": [
    {
     "ename": "SyntaxError",
     "evalue": "invalid syntax (1690179520.py, line 4)",
     "output_type": "error",
     "traceback": [
      "\u001b[1;36m  Cell \u001b[1;32mIn[19], line 4\u001b[1;36m\u001b[0m\n\u001b[1;33m    if True\u001b[0m\n\u001b[1;37m           ^\u001b[0m\n\u001b[1;31mSyntaxError\u001b[0m\u001b[1;31m:\u001b[0m invalid syntax\n"
     ]
    }
   ],
   "source": [
    "#1. SyntaxError\n",
    "#Definition: SyntaxError is raised when the Python parser encounters a syntax error. This occurs when the code is not written correctly according to the rules of the Python language.\n",
    "\n",
    "if True\n",
    "    print(\"Hello\")\n",
    "    \n",
    "    #summary: This error commonly occurs due to missing or misplaced punctuation (like colons or parentheses) or incorrect indentation.\n",
    "\n",
    "\n"
   ]
  },
  {
   "cell_type": "code",
   "execution_count": 21,
   "metadata": {},
   "outputs": [
    {
     "name": "stdout",
     "output_type": "stream",
     "text": [
      "Hello\n"
     ]
    }
   ],
   "source": [
    "# solution for syntax error\n",
    "\n",
    "if True:\n",
    "    print(\"Hello\")\n"
   ]
  },
  {
   "cell_type": "code",
   "execution_count": 2,
   "metadata": {},
   "outputs": [
    {
     "ename": "IndentationError",
     "evalue": "expected an indented block (3289756130.py, line 5)",
     "output_type": "error",
     "traceback": [
      "\u001b[1;36m  Cell \u001b[1;32mIn[2], line 5\u001b[1;36m\u001b[0m\n\u001b[1;33m    print(\"Indentation error\")\u001b[0m\n\u001b[1;37m    ^\u001b[0m\n\u001b[1;31mIndentationError\u001b[0m\u001b[1;31m:\u001b[0m expected an indented block\n"
     ]
    }
   ],
   "source": [
    "#2. IndentationError\n",
    "#Definition: IndentationError is raised when there is a problem with how code is indented. In Python, proper indentation is crucial to indicate blocks of code.\n",
    "\n",
    "def my_function():\n",
    "print(\"Indentation error\")\n",
    "\n",
    "#Summary: This error typically arises when the expected indentation for a block (such as inside a function or loop) is missing or inconsistent."
   ]
  },
  {
   "cell_type": "code",
   "execution_count": 23,
   "metadata": {},
   "outputs": [],
   "source": [
    "#solution for indentation error\n",
    "\n",
    "def my_function():\n",
    "    print(\"Indentation error\")\n"
   ]
  },
  {
   "cell_type": "code",
   "execution_count": 3,
   "metadata": {},
   "outputs": [
    {
     "ename": "NameError",
     "evalue": "name 'my_variable' is not defined",
     "output_type": "error",
     "traceback": [
      "\u001b[1;31m---------------------------------------------------------------------------\u001b[0m",
      "\u001b[1;31mNameError\u001b[0m                                 Traceback (most recent call last)",
      "Cell \u001b[1;32mIn[3], line 4\u001b[0m\n\u001b[0;32m      1\u001b[0m \u001b[38;5;66;03m#3. NameError\u001b[39;00m\n\u001b[0;32m      2\u001b[0m \u001b[38;5;66;03m#Definition: NameError is raised when a local or global name is not found. It occurs when trying to access a variable or function that has not been defined or is out of scope.\u001b[39;00m\n\u001b[1;32m----> 4\u001b[0m \u001b[38;5;28mprint\u001b[39m(\u001b[43mmy_variable\u001b[49m)\n\u001b[0;32m      6\u001b[0m \u001b[38;5;66;03m#Summary: This error can happen if a variable is used before it has been assigned a value, or if it is misspelled or not declared within the current scope.\u001b[39;00m\n",
      "\u001b[1;31mNameError\u001b[0m: name 'my_variable' is not defined"
     ]
    }
   ],
   "source": [
    "#3. NameError\n",
    "#Definition: NameError is raised when a local or global name is not found. It occurs when trying to access a variable or function that has not been defined or is out of scope.\n",
    "\n",
    "print(my_variable)\n",
    "\n",
    "#Summary: This error can happen if a variable is used before it has been assigned a value, or if it is misspelled or not declared within the current scope.\n",
    "\n"
   ]
  },
  {
   "cell_type": "code",
   "execution_count": 24,
   "metadata": {},
   "outputs": [
    {
     "name": "stdout",
     "output_type": "stream",
     "text": [
      "10\n"
     ]
    }
   ],
   "source": [
    "#sol for name error\n",
    "\n",
    "my_variable = 10\n",
    "print(my_variable)\n"
   ]
  },
  {
   "cell_type": "code",
   "execution_count": 4,
   "metadata": {},
   "outputs": [
    {
     "ename": "TypeError",
     "evalue": "unsupported operand type(s) for /: 'str' and 'int'",
     "output_type": "error",
     "traceback": [
      "\u001b[1;31m---------------------------------------------------------------------------\u001b[0m",
      "\u001b[1;31mTypeError\u001b[0m                                 Traceback (most recent call last)",
      "Cell \u001b[1;32mIn[4], line 4\u001b[0m\n\u001b[0;32m      1\u001b[0m \u001b[38;5;66;03m#4. TypeError\u001b[39;00m\n\u001b[0;32m      2\u001b[0m \u001b[38;5;66;03m#Definition: TypeError is raised when an operation or function is applied to an object of inappropriate type. It indicates that the operation is not supported for the given data types.\u001b[39;00m\n\u001b[1;32m----> 4\u001b[0m result \u001b[38;5;241m=\u001b[39m \u001b[38;5;124;43m\"\u001b[39;49m\u001b[38;5;124;43mHello\u001b[39;49m\u001b[38;5;124;43m\"\u001b[39;49m\u001b[43m \u001b[49m\u001b[38;5;241;43m/\u001b[39;49m\u001b[43m \u001b[49m\u001b[38;5;241;43m5\u001b[39;49m\n\u001b[0;32m      6\u001b[0m \u001b[38;5;66;03m#Summary: This error commonly occurs when trying to perform unsupported operations between different data types, such as trying to divide a string by an integer.\u001b[39;00m\n",
      "\u001b[1;31mTypeError\u001b[0m: unsupported operand type(s) for /: 'str' and 'int'"
     ]
    }
   ],
   "source": [
    "#4. TypeError\n",
    "#Definition: TypeError is raised when an operation or function is applied to an object of inappropriate type. It indicates that the operation is not supported for the given data types.\n",
    "\n",
    "result = \"Hello\" / 5\n",
    "\n",
    "#Summary: This error commonly occurs when trying to perform unsupported operations between different data types, such as trying to divide a string by an integer."
   ]
  },
  {
   "cell_type": "code",
   "execution_count": 25,
   "metadata": {},
   "outputs": [
    {
     "name": "stdout",
     "output_type": "stream",
     "text": [
      "5\n"
     ]
    }
   ],
   "source": [
    "# sol for type error\n",
    "\n",
    "print(len(\"hello\"))\n"
   ]
  },
  {
   "cell_type": "code",
   "execution_count": 5,
   "metadata": {},
   "outputs": [
    {
     "ename": "IndexError",
     "evalue": "list index out of range",
     "output_type": "error",
     "traceback": [
      "\u001b[1;31m---------------------------------------------------------------------------\u001b[0m",
      "\u001b[1;31mIndexError\u001b[0m                                Traceback (most recent call last)",
      "Cell \u001b[1;32mIn[5], line 5\u001b[0m\n\u001b[0;32m      1\u001b[0m \u001b[38;5;66;03m#5. IndexError\u001b[39;00m\n\u001b[0;32m      2\u001b[0m \u001b[38;5;66;03m#Definition: IndexError is raised when trying to access an element from a sequence (like a list or tuple) using an index that is out of range.\u001b[39;00m\n\u001b[0;32m      4\u001b[0m my_list \u001b[38;5;241m=\u001b[39m [\u001b[38;5;241m1\u001b[39m, \u001b[38;5;241m2\u001b[39m, \u001b[38;5;241m3\u001b[39m]\n\u001b[1;32m----> 5\u001b[0m \u001b[38;5;28mprint\u001b[39m(\u001b[43mmy_list\u001b[49m\u001b[43m[\u001b[49m\u001b[38;5;241;43m5\u001b[39;49m\u001b[43m]\u001b[49m)\n\u001b[0;32m      7\u001b[0m \u001b[38;5;66;03m#Summary: This error occurs when the index used to access an element is greater than or equal to the length of the sequence, or if it is negative without appropriate handling.\u001b[39;00m\n",
      "\u001b[1;31mIndexError\u001b[0m: list index out of range"
     ]
    }
   ],
   "source": [
    "#5. IndexError\n",
    "#Definition: IndexError is raised when trying to access an element from a sequence (like a list or tuple) using an index that is out of range.\n",
    "\n",
    "my_list = [1, 2, 3]\n",
    "print(my_list[5])\n",
    "\n",
    "#Summary: This error occurs when the index used to access an element is greater than or equal to the length of the sequence, or if it is negative without appropriate handling.\n",
    "\n"
   ]
  },
  {
   "cell_type": "code",
   "execution_count": 26,
   "metadata": {},
   "outputs": [
    {
     "name": "stdout",
     "output_type": "stream",
     "text": [
      "3\n"
     ]
    }
   ],
   "source": [
    "# sol for index error\n",
    "\n",
    "my_list = [1, 2, 3]\n",
    "print(my_list[2])\n"
   ]
  },
  {
   "cell_type": "code",
   "execution_count": 7,
   "metadata": {},
   "outputs": [
    {
     "ename": "ValueError",
     "evalue": "invalid literal for int() with base 10: 'Hello'",
     "output_type": "error",
     "traceback": [
      "\u001b[1;31m---------------------------------------------------------------------------\u001b[0m",
      "\u001b[1;31mValueError\u001b[0m                                Traceback (most recent call last)",
      "Cell \u001b[1;32mIn[7], line 4\u001b[0m\n\u001b[0;32m      1\u001b[0m \u001b[38;5;66;03m#6. ValueError\u001b[39;00m\n\u001b[0;32m      2\u001b[0m \u001b[38;5;66;03m#Definition: ValueError is raised when a function receives an argument of the right type but inappropriate value, and the situation is not described by a more precise exception such as IndexError.\u001b[39;00m\n\u001b[1;32m----> 4\u001b[0m number \u001b[38;5;241m=\u001b[39m \u001b[38;5;28;43mint\u001b[39;49m\u001b[43m(\u001b[49m\u001b[38;5;124;43m\"\u001b[39;49m\u001b[38;5;124;43mHello\u001b[39;49m\u001b[38;5;124;43m\"\u001b[39;49m\u001b[43m)\u001b[49m\n\u001b[0;32m      6\u001b[0m \u001b[38;5;66;03m#Summary: This error typically occurs when trying to convert a value to a different type, such as converting a string that cannot be interpreted as an integer.\u001b[39;00m\n",
      "\u001b[1;31mValueError\u001b[0m: invalid literal for int() with base 10: 'Hello'"
     ]
    }
   ],
   "source": [
    "#6. ValueError\n",
    "#Definition: ValueError is raised when a function receives an argument of the right type but inappropriate value, and the situation is not described by a more precise exception such as IndexError.\n",
    "\n",
    "number = int(\"Hello\")\n",
    "\n",
    "#Summary: This error typically occurs when trying to convert a value to a different type, such as converting a string that cannot be interpreted as an integer.\n",
    "\n"
   ]
  },
  {
   "cell_type": "code",
   "execution_count": 27,
   "metadata": {},
   "outputs": [
    {
     "name": "stdout",
     "output_type": "stream",
     "text": [
      "123\n"
     ]
    }
   ],
   "source": [
    "#sol for value error\n",
    "\n",
    "print(int('123'))\n"
   ]
  },
  {
   "cell_type": "code",
   "execution_count": 28,
   "metadata": {},
   "outputs": [
    {
     "ename": "KeyError",
     "evalue": "'address'",
     "output_type": "error",
     "traceback": [
      "\u001b[1;31m---------------------------------------------------------------------------\u001b[0m",
      "\u001b[1;31mKeyError\u001b[0m                                  Traceback (most recent call last)",
      "Cell \u001b[1;32mIn[28], line 5\u001b[0m\n\u001b[0;32m      1\u001b[0m \u001b[38;5;66;03m#7. KeyError\u001b[39;00m\n\u001b[0;32m      2\u001b[0m \u001b[38;5;66;03m#Definition: KeyError is raised when trying to access a key that does not exist in a dictionary.\u001b[39;00m\n\u001b[0;32m      4\u001b[0m my_dict \u001b[38;5;241m=\u001b[39m {\u001b[38;5;124m\"\u001b[39m\u001b[38;5;124mname\u001b[39m\u001b[38;5;124m\"\u001b[39m: \u001b[38;5;124m\"\u001b[39m\u001b[38;5;124mJohn\u001b[39m\u001b[38;5;124m\"\u001b[39m, \u001b[38;5;124m\"\u001b[39m\u001b[38;5;124mage\u001b[39m\u001b[38;5;124m\"\u001b[39m: \u001b[38;5;241m30\u001b[39m}\n\u001b[1;32m----> 5\u001b[0m \u001b[38;5;28mprint\u001b[39m(\u001b[43mmy_dict\u001b[49m\u001b[43m[\u001b[49m\u001b[38;5;124;43m\"\u001b[39;49m\u001b[38;5;124;43maddress\u001b[39;49m\u001b[38;5;124;43m\"\u001b[39;49m\u001b[43m]\u001b[49m)\n\u001b[0;32m      8\u001b[0m \u001b[38;5;66;03m#Summary: This error occurs when attempting to access a dictionary with a key that is not present in the dictionary.\u001b[39;00m\n",
      "\u001b[1;31mKeyError\u001b[0m: 'address'"
     ]
    }
   ],
   "source": [
    "#7. KeyError\n",
    "#Definition: KeyError is raised when trying to access a key that does not exist in a dictionary.\n",
    "\n",
    "my_dict = {\"name\": \"John\", \"age\": 30}\n",
    "print(my_dict[\"address\"])\n",
    "\n",
    "\n",
    "#Summary: This error occurs when attempting to access a dictionary with a key that is not present in the dictionary.\n",
    "\n"
   ]
  },
  {
   "cell_type": "code",
   "execution_count": 29,
   "metadata": {},
   "outputs": [
    {
     "name": "stdout",
     "output_type": "stream",
     "text": [
      "Key not found\n"
     ]
    }
   ],
   "source": [
    "#sol for key error\n",
    "\n",
    "my_dict = {'a': 1}\n",
    "print(my_dict.get('b', 'Key not found'))\n"
   ]
  },
  {
   "cell_type": "code",
   "execution_count": 9,
   "metadata": {},
   "outputs": [
    {
     "ename": "ZeroDivisionError",
     "evalue": "division by zero",
     "output_type": "error",
     "traceback": [
      "\u001b[1;31m---------------------------------------------------------------------------\u001b[0m",
      "\u001b[1;31mZeroDivisionError\u001b[0m                         Traceback (most recent call last)",
      "Cell \u001b[1;32mIn[9], line 4\u001b[0m\n\u001b[0;32m      1\u001b[0m \u001b[38;5;66;03m#8. ZeroDivisionError\u001b[39;00m\n\u001b[0;32m      2\u001b[0m \u001b[38;5;66;03m#Definition: ZeroDivisionError is raised when attempting to divide a number by zero.\u001b[39;00m\n\u001b[1;32m----> 4\u001b[0m result \u001b[38;5;241m=\u001b[39m \u001b[38;5;241;43m10\u001b[39;49m\u001b[43m \u001b[49m\u001b[38;5;241;43m/\u001b[39;49m\u001b[43m \u001b[49m\u001b[38;5;241;43m0\u001b[39;49m\n\u001b[0;32m      6\u001b[0m \u001b[38;5;66;03m#Summary: This error is straightforward and occurs when the denominator in a division operation is zero, which is mathematically undefined.\u001b[39;00m\n",
      "\u001b[1;31mZeroDivisionError\u001b[0m: division by zero"
     ]
    }
   ],
   "source": [
    "#8. ZeroDivisionError\n",
    "#Definition: ZeroDivisionError is raised when attempting to divide a number by zero.\n",
    "\n",
    "result = 10 / 0\n",
    "\n",
    "#Summary: This error is straightforward and occurs when the denominator in a division operation is zero, which is mathematically undefined.\n",
    "\n"
   ]
  },
  {
   "cell_type": "code",
   "execution_count": 30,
   "metadata": {},
   "outputs": [
    {
     "name": "stdout",
     "output_type": "stream",
     "text": [
      "1.0\n"
     ]
    }
   ],
   "source": [
    "# sol for zero divivion error\n",
    "\n",
    "numerator = 1\n",
    "denominator = 1\n",
    "if denominator != 0:\n",
    "    print(numerator / denominator)\n",
    "else:\n",
    "    print(\"Cannot divide by zero\")\n"
   ]
  },
  {
   "cell_type": "code",
   "execution_count": 10,
   "metadata": {},
   "outputs": [
    {
     "ename": "FileNotFoundError",
     "evalue": "[Errno 2] No such file or directory: 'nonexistent_file.txt'",
     "output_type": "error",
     "traceback": [
      "\u001b[1;31m---------------------------------------------------------------------------\u001b[0m",
      "\u001b[1;31mFileNotFoundError\u001b[0m                         Traceback (most recent call last)",
      "Cell \u001b[1;32mIn[10], line 4\u001b[0m\n\u001b[0;32m      1\u001b[0m \u001b[38;5;66;03m#9. FileNotFoundError\u001b[39;00m\n\u001b[0;32m      2\u001b[0m \u001b[38;5;66;03m#Definition: FileNotFoundError is raised when trying to open or access a file that does not exist.\u001b[39;00m\n\u001b[1;32m----> 4\u001b[0m \u001b[38;5;28;01mwith\u001b[39;00m \u001b[38;5;28;43mopen\u001b[39;49m\u001b[43m(\u001b[49m\u001b[38;5;124;43m\"\u001b[39;49m\u001b[38;5;124;43mnonexistent_file.txt\u001b[39;49m\u001b[38;5;124;43m\"\u001b[39;49m\u001b[43m,\u001b[49m\u001b[43m \u001b[49m\u001b[38;5;124;43m\"\u001b[39;49m\u001b[38;5;124;43mr\u001b[39;49m\u001b[38;5;124;43m\"\u001b[39;49m\u001b[43m)\u001b[49m \u001b[38;5;28;01mas\u001b[39;00m file:\n\u001b[0;32m      5\u001b[0m     contents \u001b[38;5;241m=\u001b[39m file\u001b[38;5;241m.\u001b[39mread()\n\u001b[0;32m      7\u001b[0m     \u001b[38;5;66;03m#Summary: This error occurs when Python cannot find the specified file at the given path during file operations.\u001b[39;00m\n",
      "File \u001b[1;32m~\\AppData\\Roaming\\Python\\Python39\\site-packages\\IPython\\core\\interactiveshell.py:310\u001b[0m, in \u001b[0;36m_modified_open\u001b[1;34m(file, *args, **kwargs)\u001b[0m\n\u001b[0;32m    303\u001b[0m \u001b[38;5;28;01mif\u001b[39;00m file \u001b[38;5;129;01min\u001b[39;00m {\u001b[38;5;241m0\u001b[39m, \u001b[38;5;241m1\u001b[39m, \u001b[38;5;241m2\u001b[39m}:\n\u001b[0;32m    304\u001b[0m     \u001b[38;5;28;01mraise\u001b[39;00m \u001b[38;5;167;01mValueError\u001b[39;00m(\n\u001b[0;32m    305\u001b[0m         \u001b[38;5;124mf\u001b[39m\u001b[38;5;124m\"\u001b[39m\u001b[38;5;124mIPython won\u001b[39m\u001b[38;5;124m'\u001b[39m\u001b[38;5;124mt let you open fd=\u001b[39m\u001b[38;5;132;01m{\u001b[39;00mfile\u001b[38;5;132;01m}\u001b[39;00m\u001b[38;5;124m by default \u001b[39m\u001b[38;5;124m\"\u001b[39m\n\u001b[0;32m    306\u001b[0m         \u001b[38;5;124m\"\u001b[39m\u001b[38;5;124mas it is likely to crash IPython. If you know what you are doing, \u001b[39m\u001b[38;5;124m\"\u001b[39m\n\u001b[0;32m    307\u001b[0m         \u001b[38;5;124m\"\u001b[39m\u001b[38;5;124myou can use builtins\u001b[39m\u001b[38;5;124m'\u001b[39m\u001b[38;5;124m open.\u001b[39m\u001b[38;5;124m\"\u001b[39m\n\u001b[0;32m    308\u001b[0m     )\n\u001b[1;32m--> 310\u001b[0m \u001b[38;5;28;01mreturn\u001b[39;00m io_open(file, \u001b[38;5;241m*\u001b[39margs, \u001b[38;5;241m*\u001b[39m\u001b[38;5;241m*\u001b[39mkwargs)\n",
      "\u001b[1;31mFileNotFoundError\u001b[0m: [Errno 2] No such file or directory: 'nonexistent_file.txt'"
     ]
    }
   ],
   "source": [
    "#9. FileNotFoundError\n",
    "#Definition: FileNotFoundError is raised when trying to open or access a file that does not exist.\n",
    "\n",
    "with open(\"nonexistent_file.txt\", \"r\") as file:\n",
    "    contents = file.read()\n",
    "    \n",
    "    #Summary: This error occurs when Python cannot find the specified file at the given path during file operations.\n",
    "\n",
    "\n"
   ]
  },
  {
   "cell_type": "code",
   "execution_count": 31,
   "metadata": {},
   "outputs": [
    {
     "name": "stdout",
     "output_type": "stream",
     "text": [
      "File not found\n"
     ]
    }
   ],
   "source": [
    "#sol for file not found error\n",
    "\n",
    "try:\n",
    "    with open('non_existent_file.txt') as file:\n",
    "        content = file.read()\n",
    "except FileNotFoundError:\n",
    "    print(\"File not found\")\n"
   ]
  },
  {
   "cell_type": "code",
   "execution_count": 11,
   "metadata": {},
   "outputs": [
    {
     "name": "stdout",
     "output_type": "stream",
     "text": [
      "IOError occurred: [Errno 2] No such file or directory: 'file.txt'\n"
     ]
    }
   ],
   "source": [
    "#10. IOError (deprecated in Python 3.x)\n",
    "#Definition: IOError was raised when input/output operations (such as reading or writing to a file) fail for an unspecified reason. It is now an alias for OSError in Python 3.x\n",
    "\n",
    "try:\n",
    "    with open(\"file.txt\", \"r\") as file:\n",
    "        contents = file.read()\n",
    "except IOError as e:\n",
    "    print(f\"IOError occurred: {e}\")\n",
    "\n",
    "\n",
    "#Summary: This error is now mostly replaced by OSError in Python 3.x and indicates a general problem with input/output operations."
   ]
  },
  {
   "cell_type": "code",
   "execution_count": 32,
   "metadata": {},
   "outputs": [
    {
     "name": "stdout",
     "output_type": "stream",
     "text": [
      "FileNotFoundError occurred: [Errno 2] No such file or directory: 'file.txt'\n"
     ]
    }
   ],
   "source": [
    "# sol for IOerror\n",
    "\n",
    "try:\n",
    "    with open(\"file.txt\", \"r\") as file:\n",
    "        contents = file.read()\n",
    "except FileNotFoundError as e:\n",
    "    print(f\"FileNotFoundError occurred: {e}\")\n",
    "except IOError as e:\n",
    "    print(f\"IOError occurred: {e}\")\n"
   ]
  },
  {
   "cell_type": "code",
   "execution_count": 12,
   "metadata": {},
   "outputs": [
    {
     "ename": "AssertionError",
     "evalue": "Assertion error occurred",
     "output_type": "error",
     "traceback": [
      "\u001b[1;31m---------------------------------------------------------------------------\u001b[0m",
      "\u001b[1;31mAssertionError\u001b[0m                            Traceback (most recent call last)",
      "Cell \u001b[1;32mIn[12], line 4\u001b[0m\n\u001b[0;32m      1\u001b[0m \u001b[38;5;66;03m#11. AssertionError\u001b[39;00m\n\u001b[0;32m      2\u001b[0m \u001b[38;5;66;03m#Definition: AssertionError is raised when an assert statement fails. Assert statements are used to assert that certain conditions are true.\u001b[39;00m\n\u001b[1;32m----> 4\u001b[0m \u001b[38;5;28;01massert\u001b[39;00m \u001b[38;5;28;01mFalse\u001b[39;00m, \u001b[38;5;124m\"\u001b[39m\u001b[38;5;124mAssertion error occurred\u001b[39m\u001b[38;5;124m\"\u001b[39m\n\u001b[0;32m      7\u001b[0m \u001b[38;5;66;03m#Summary: This error occurs when the condition in an assert statement evaluates to False, indicating a logical error or unexpected behavior in the code.\u001b[39;00m\n",
      "\u001b[1;31mAssertionError\u001b[0m: Assertion error occurred"
     ]
    }
   ],
   "source": [
    "#11. AssertionError\n",
    "#Definition: AssertionError is raised when an assert statement fails. Assert statements are used to assert that certain conditions are true.\n",
    "\n",
    "assert False, \"Assertion error occurred\"\n",
    "\n",
    "\n",
    "#Summary: This error occurs when the condition in an assert statement evaluates to False, indicating a logical error or unexpected behavior in the code."
   ]
  },
  {
   "cell_type": "code",
   "execution_count": 35,
   "metadata": {},
   "outputs": [],
   "source": [
    "#sol for assertion error\n",
    "\n",
    "assert True, \"Assertion error occurred\"\n"
   ]
  },
  {
   "cell_type": "code",
   "execution_count": 13,
   "metadata": {},
   "outputs": [
    {
     "ename": "ModuleNotFoundError",
     "evalue": "No module named 'nonexistent_module'",
     "output_type": "error",
     "traceback": [
      "\u001b[1;31m---------------------------------------------------------------------------\u001b[0m",
      "\u001b[1;31mModuleNotFoundError\u001b[0m                       Traceback (most recent call last)",
      "Cell \u001b[1;32mIn[13], line 4\u001b[0m\n\u001b[0;32m      1\u001b[0m \u001b[38;5;66;03m#12. ModuleNotFoundError\u001b[39;00m\n\u001b[0;32m      2\u001b[0m \u001b[38;5;66;03m#Definition: ModuleNotFoundError is raised when importing a module that does not exist.\u001b[39;00m\n\u001b[1;32m----> 4\u001b[0m \u001b[38;5;28;01mimport\u001b[39;00m \u001b[38;5;21;01mnonexistent_module\u001b[39;00m\n\u001b[0;32m      6\u001b[0m \u001b[38;5;66;03m#Summary: This error occurs when Python cannot find the specified module to import, either because it does not exist or is not accessible from the current Python environment.\u001b[39;00m\n",
      "\u001b[1;31mModuleNotFoundError\u001b[0m: No module named 'nonexistent_module'"
     ]
    }
   ],
   "source": [
    "#12. ModuleNotFoundError\n",
    "#Definition: ModuleNotFoundError is raised when importing a module that does not exist.\n",
    "\n",
    "import nonexistent_module\n",
    "\n",
    "#Summary: This error occurs when Python cannot find the specified module to import, either because it does not exist or is not accessible from the current Python environment."
   ]
  },
  {
   "cell_type": "code",
   "execution_count": 34,
   "metadata": {},
   "outputs": [
    {
     "name": "stdout",
     "output_type": "stream",
     "text": [
      "hello world\n"
     ]
    }
   ],
   "source": [
    "#sol for module not found error\n",
    "# # Make sure the module exists and is installed in your environment\n",
    "\n",
    "import test1  \n",
    "\n",
    "# Ensure the module is installed and correctly spelled\n"
   ]
  }
 ],
 "metadata": {
  "kernelspec": {
   "display_name": "Python 3",
   "language": "python",
   "name": "python3"
  },
  "language_info": {
   "codemirror_mode": {
    "name": "ipython",
    "version": 3
   },
   "file_extension": ".py",
   "mimetype": "text/x-python",
   "name": "python",
   "nbconvert_exporter": "python",
   "pygments_lexer": "ipython3",
   "version": "3.9.1"
  }
 },
 "nbformat": 4,
 "nbformat_minor": 2
}
